{
 "cells": [
  {
   "cell_type": "code",
   "execution_count": 1,
   "metadata": {},
   "outputs": [],
   "source": [
    "import pandas as pd\n",
    "import matplotlib.pyplot as plt\n",
    "import numpy as np\n",
    "from sklearn.tree import DecisionTreeClassifier\n",
    "import joblib"
   ]
  },
  {
   "cell_type": "code",
   "execution_count": 2,
   "metadata": {},
   "outputs": [
    {
     "name": "stderr",
     "output_type": "stream",
     "text": [
      "/tmp/ipykernel_169151/1834454344.py:28: SettingWithCopyWarning: \n",
      "A value is trying to be set on a copy of a slice from a DataFrame.\n",
      "Try using .loc[row_indexer,col_indexer] = value instead\n",
      "\n",
      "See the caveats in the documentation: https://pandas.pydata.org/pandas-docs/stable/user_guide/indexing.html#returning-a-view-versus-a-copy\n",
      "  Y['drugName'] = le_drugN.transform(Y['drugName'])\n"
     ]
    }
   ],
   "source": [
    "#Read data\n",
    "df = pd.read_csv('/home/edward/Homelab/Machine_learning/Drug_recommendation_with_sentiment/Data/drugsComTest_complete.csv', sep=',')\n",
    "\n",
    "\n",
    "input_c = input(\"Enter the medical condition: \")\n",
    "\n",
    "#Create mask variable to define and process data to required parameters, in this case to keep all values with rating 10 as True. The mask results categorize as True or False, and keeps all True. Apply the mask to the DataFrame and save it as a new DataFrame.\n",
    "mask = df[\"rating\"] == 10\n",
    "df_mask = df[mask]\n",
    "\n",
    "mask_2 = df_mask[\"condition\"] == input_c\n",
    "df_mask = df_mask[mask_2]\n",
    "\n",
    "\n",
    "#Extract specific data for independent variable within the DataFrame columns.\n",
    "X = df_mask[[\"usefulCount\", \"review\"]]\n",
    "\n",
    "#Replace name with numbers, by creating labels for the independent variable \"condition\".\n",
    "#Import Sklearn LabelEncoder to encode the independent variable \"condition\".\n",
    "from sklearn import preprocessing\n",
    "\n",
    "#Extract specific data for dependent variable within the DataFrame columns.\n",
    "Y = df_mask[['drugName']]\n",
    "\n",
    "#Replace name with numbers - Labels\n",
    "le_drugN = preprocessing.LabelEncoder()\n",
    "le_drugN.fit(Y['drugName'])\n",
    "Y['drugName'] = le_drugN.transform(Y['drugName'])"
   ]
  },
  {
   "cell_type": "code",
   "execution_count": 3,
   "metadata": {},
   "outputs": [],
   "source": [
    "#Get only the top 20 drugNames with the highest number of usefulCount.\n",
    "\n",
    "top_20 = X.sort_values(by=['usefulCount'], ascending=False)\n",
    "top_20 = top_20.head(20)\n",
    "\n",
    "#Get the index of the top 20 drugNames.\n",
    "top_20_index = top_20.index\n",
    "\n",
    "top_20_index_list = top_20_index.tolist()"
   ]
  },
  {
   "cell_type": "code",
   "execution_count": 4,
   "metadata": {},
   "outputs": [
    {
     "name": "stderr",
     "output_type": "stream",
     "text": [
      "/home/edward/.local/lib/python3.10/site-packages/tqdm/auto.py:22: TqdmWarning: IProgress not found. Please update jupyter and ipywidgets. See https://ipywidgets.readthedocs.io/en/stable/user_install.html\n",
      "  from .autonotebook import tqdm as notebook_tqdm\n"
     ]
    }
   ],
   "source": [
    "### DONT RUN!\n",
    "\n",
    "from transformers import AutoTokenizer, AutoModelForSequenceClassification\n",
    "import torch\n",
    "\n",
    "tokenizer = AutoTokenizer.from_pretrained('nlptown/bert-base-multilingual-uncased-sentiment')\n",
    "\n",
    "model = AutoModelForSequenceClassification.from_pretrained('nlptown/bert-base-multilingual-uncased-sentiment')"
   ]
  },
  {
   "cell_type": "code",
   "execution_count": 5,
   "metadata": {},
   "outputs": [],
   "source": [
    "def sentiment_analysis(text):\n",
    "    tokens = tokenizer.encode(text, return_tensors='pt')\n",
    "    result = model(tokens)\n",
    "    return int(torch.argmax(result.logits))+1"
   ]
  },
  {
   "cell_type": "code",
   "execution_count": 6,
   "metadata": {},
   "outputs": [
    {
     "name": "stdout",
     "output_type": "stream",
     "text": [
      "[5, 2, 2, 2, 5, 5, 2, 5, 5, 5, 5, 1, 1, 2, 5, 5, 5, 5, 5, 5]\n"
     ]
    }
   ],
   "source": [
    "#Create a new column in the DataFrame, with the sentiment analysis of the review.\n",
    "from cgi import print_environ\n",
    "\n",
    "\n",
    "sentiment_score = []\n",
    "\n",
    "#Sentiment analysis for the top 20 drugNames.\n",
    "for i in top_20_index_list:\n",
    "    sentiment_score.append(sentiment_analysis(X['review'][i]))\n",
    "\n",
    "print(sentiment_score)\n"
   ]
  },
  {
   "cell_type": "code",
   "execution_count": 7,
   "metadata": {},
   "outputs": [
    {
     "name": "stdout",
     "output_type": "stream",
     "text": [
      "['Sertraline' 'Vilazodone' 'Paroxetine' 'Pristiq' 'Desvenlafaxine'\n",
      " 'Prozac' 'Wellbutrin' 'Desvenlafaxine' 'Pristiq' 'Modafinil' 'Bupropion'\n",
      " 'Fetzima' 'Celexa']\n"
     ]
    }
   ],
   "source": [
    "#Indexes of the highest scores in sentiment_score.\n",
    "highest_score_index = [i for i, x in enumerate(sentiment_score) if x == max(sentiment_score)]\n",
    "\n",
    "recommend_drug_index = []\n",
    "recommend_drug_name = []\n",
    "recommend_drug_score = []\n",
    "\n",
    "for k in highest_score_index:\n",
    "    recommend_drug_index.append(top_20_index_list[k])\n",
    "\n",
    "for o in recommend_drug_index:\n",
    "    recommend_drug_name.append(Y['drugName'][o])\n",
    "\n",
    "#Transform the drugName numbers in recommend_drug_name back to the original names.\n",
    "recommend_drug_name = le_drugN.inverse_transform(recommend_drug_name)\n",
    "\n",
    "print(recommend_drug_name)\n",
    "\n",
    "def recommend_drug_review():\n",
    "    #get the review of the drug that the client requested.\n",
    "    client_request_drug_review = X['review']\n",
    "\n",
    "    return client_request_drug_review\n",
    "\n"
   ]
  },
  {
   "cell_type": "code",
   "execution_count": 8,
   "metadata": {},
   "outputs": [
    {
     "data": {
      "text/plain": [
       "['drug_review.joblib']"
      ]
     },
     "execution_count": 8,
     "metadata": {},
     "output_type": "execute_result"
    }
   ],
   "source": [
    "import joblib\n",
    "\n",
    "#Save the model\n",
    "joblib.dump(recommend_drug_name, \"drug_name.joblib\")\n",
    "joblib.dump(sentiment_score, \"drug_score.joblib\")\n",
    "joblib.dump(recommend_drug_review(), \"drug_review.joblib\")"
   ]
  },
  {
   "cell_type": "code",
   "execution_count": 9,
   "metadata": {},
   "outputs": [
    {
     "name": "stdout",
     "output_type": "stream",
     "text": [
      "These are the drugs best suited for the condition specified: \n",
      " ['Sertraline', 'Desvenlafaxine', 'Prozac', 'Desvenlafaxine', 'Pristiq', 'Modafinil', 'Bupropion', 'Vilazodone', 'Paroxetine', 'Pristiq', 'Wellbutrin', 'Fetzima', 'Celexa'] \n",
      "\n",
      "The score of Sertraline is 5 and the review is \"I&#039;ve tried a few antidepressants over the years (citalopram, fluoxetine, amitriptyline), but none of those helped with my depression, insomnia &amp; anxiety. My doctor suggested and changed me onto 45mg mirtazapine and this medicine has saved my life. Thankfully I have had no side effects especially the most common - weight gain, I&#039;ve actually lost alot of weight. I still have suicidal thoughts but mirtazapine has saved me.\" \n",
      "\n"
     ]
    }
   ],
   "source": [
    "# Create a class to store the data\n",
    "class Drug:\n",
    "    def __init__(self, name, score, review):\n",
    "        self.name = name\n",
    "        self.score = score\n",
    "        self.review = review\n",
    "\n",
    "    def __repr__(self):\n",
    "        return f\"{self.name}: {self.score}\"\n",
    "    \n",
    "    def __str__(self):\n",
    "        return f\"{self.name}: {self.score}\"\n",
    "    \n",
    "    def __eq__(self, other):\n",
    "        return self.name == other.name\n",
    "    \n",
    "    def __hash__(self):\n",
    "        return hash(self.name)\n",
    "    \n",
    "    def __lt__(self, other):\n",
    "        return self.score < other.score\n",
    "    \n",
    "    def __gt__(self, other):\n",
    "        return self.score > other.score\n",
    "    \n",
    "    def __le__(self, other):\n",
    "        return self.score <= other.score\n",
    "\n",
    "    def __ge__(self, other):\n",
    "        return self.score >= other.score\n",
    "    \n",
    "    def name(self):\n",
    "        return self.name\n",
    "\n",
    "    def score(self):\n",
    "        return self.score\n",
    "    \n",
    "    def review(self):\n",
    "        return self.review\n",
    "\n",
    "# Create a list of drug objects\n",
    "drugs = [Drug(name, score, review) for name, score, review in zip(recommend_drug_name, sentiment_score, recommend_drug_review())]\n",
    "\n",
    "# Sort the list of drug objects\n",
    "drugs.sort(reverse=True)\n",
    "\n",
    "# Print the list of drug objects\n",
    "# print(Drug(\"Prozac\", 0))\n",
    "drug_user_names = []\n",
    "for i in range(len(drugs)):\n",
    "    drug_user_names.append(Drug.name(drugs[i]))\n",
    "\n",
    "print(f\"These are the drugs best suited for the condition specified: \\n {drug_user_names} \\n\" )\n",
    "\n",
    "\n",
    "def user_interaction():\n",
    "    input_drug = input(\"Please pick a drug name you would like to know more about from the list above, enter a drug name: \")\n",
    "\n",
    "    drug_index = drugs.index(Drug(f\"{input_drug}\", 0, 0))\n",
    "\n",
    "    return f\"The score of {input_drug} is {Drug.score(drugs[drug_index])} and the review is {Drug.review(drugs[drug_index])} \\n\"\n",
    "\n",
    "print(user_interaction())\n",
    "\n",
    "continue_question = input(\"Would you like to know more about another drug? Enter 'y' for yes, 'n' for no: \")\n",
    "\n",
    "while continue_question == \"y\":\n",
    "    print(user_interaction())\n",
    "\n",
    "if continue_question == \"n\":\n",
    "    print(\"Thank you for using our service!\")\n",
    "        "
   ]
  }
 ],
 "metadata": {
  "kernelspec": {
   "display_name": "Python 3.10.4 64-bit",
   "language": "python",
   "name": "python3"
  },
  "language_info": {
   "codemirror_mode": {
    "name": "ipython",
    "version": 3
   },
   "file_extension": ".py",
   "mimetype": "text/x-python",
   "name": "python",
   "nbconvert_exporter": "python",
   "pygments_lexer": "ipython3",
   "version": "3.10.4"
  },
  "orig_nbformat": 4,
  "vscode": {
   "interpreter": {
    "hash": "916dbcbb3f70747c44a77c7bcd40155683ae19c65e1c03b4aa3499c5328201f1"
   }
  }
 },
 "nbformat": 4,
 "nbformat_minor": 2
}
