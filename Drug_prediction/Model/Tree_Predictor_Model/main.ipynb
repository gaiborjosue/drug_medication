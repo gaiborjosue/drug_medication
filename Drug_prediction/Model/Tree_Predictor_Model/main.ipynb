{
 "cells": [
  {
   "cell_type": "code",
   "execution_count": 1,
   "metadata": {},
   "outputs": [],
   "source": [
    "import pandas as pd\n",
    "import matplotlib.pyplot as plt\n",
    "import numpy as np\n",
    "from sklearn.tree import DecisionTreeClassifier\n",
    "import joblib"
   ]
  },
  {
   "cell_type": "code",
   "execution_count": 2,
   "metadata": {},
   "outputs": [
    {
     "name": "stderr",
     "output_type": "stream",
     "text": [
      "/tmp/ipykernel_1424/2952274390.py:16: SettingWithCopyWarning: \n",
      "A value is trying to be set on a copy of a slice from a DataFrame.\n",
      "Try using .loc[row_indexer,col_indexer] = value instead\n",
      "\n",
      "See the caveats in the documentation: https://pandas.pydata.org/pandas-docs/stable/user_guide/indexing.html#returning-a-view-versus-a-copy\n",
      "  X[\"condition\"] = le_condition.transform(X[\"condition\"])\n",
      "/tmp/ipykernel_1424/2952274390.py:25: SettingWithCopyWarning: \n",
      "A value is trying to be set on a copy of a slice from a DataFrame.\n",
      "Try using .loc[row_indexer,col_indexer] = value instead\n",
      "\n",
      "See the caveats in the documentation: https://pandas.pydata.org/pandas-docs/stable/user_guide/indexing.html#returning-a-view-versus-a-copy\n",
      "  Y['drugName'] = le_drugN.transform(Y['drugName'])\n"
     ]
    },
    {
     "name": "stdout",
     "output_type": "stream",
     "text": [
      "Accuracy: 0.1392479435957697\n"
     ]
    },
    {
     "data": {
      "text/plain": [
       "'\\nSAVE MODEL\\n'"
      ]
     },
     "execution_count": 2,
     "metadata": {},
     "output_type": "execute_result"
    }
   ],
   "source": [
    "#Read data\n",
    "df = pd.read_csv('/home/edward/Homelab/Machine_learning/Drug_prediction/Data/drugsComTest_complete.csv', sep=',')\n",
    "\n",
    "#Create mask variable to define and process data to required parameters, in this case to keep all values with rating 10 as True. The mask results categorize as True or False, and keeps all True. Apply the mask to the DataFrame and save it as a new DataFrame.\n",
    "mask = df[\"rating\"] == 10\n",
    "df_mask = df[mask]\n",
    "\n",
    "#Extract specific data for independent variable within the DataFrame columns.\n",
    "X = df_mask[['condition', \"usefulCount\"]]\n",
    "\n",
    "#Replace name with numbers, by creating labels for the independent variable \"condition\".\n",
    "#Import Sklearn LabelEncoder to encode the independent variable \"condition\".\n",
    "from sklearn import preprocessing\n",
    "le_condition = preprocessing.LabelEncoder()\n",
    "le_condition.fit(X[\"condition\"])\n",
    "X[\"condition\"] = le_condition.transform(X[\"condition\"])\n",
    "\n",
    "\n",
    "#Extract specific data for dependent variable within the DataFrame columns.\n",
    "Y = df_mask[['drugName']]\n",
    "\n",
    "#Replace name with numbers - Labels\n",
    "le_drugN = preprocessing.LabelEncoder()\n",
    "le_drugN.fit(Y['drugName'])\n",
    "Y['drugName'] = le_drugN.transform(Y['drugName'])\n",
    "\n",
    "#Split data into train and test\n",
    "from sklearn.model_selection import train_test_split\n",
    "X_train, X_test, Y_train, Y_test = train_test_split(X, Y, test_size=0.2, random_state=0)\n",
    "\n",
    "\n",
    "\"\"\"\n",
    "TRAIN MODEL\n",
    "\"\"\"\n",
    "#Create model\n",
    "model = DecisionTreeClassifier(criterion='entropy')\n",
    "model.fit(X_train, Y_train)\n",
    "\n",
    "\n",
    "\"\"\"\n",
    "PREDICT\n",
    "\"\"\"\n",
    "#Predict\n",
    "Y_pred = model.predict(X_test)\n",
    "Y_pred_proba = model.predict_proba(X_test)\n",
    "Y_pred_proba = Y_pred_proba[:,1]\n",
    "\n",
    "\n",
    "\"\"\"\n",
    "EVALUATE MODEL\n",
    "\"\"\"\n",
    "#Evaluate model\n",
    "from sklearn.metrics import confusion_matrix, accuracy_score, f1_score, precision_score, recall_score\n",
    "acc = accuracy_score(Y_test, Y_pred)\n",
    "print(\"Accuracy:\", acc)\n",
    "\n",
    "\n",
    "\n",
    "\"\"\"\n",
    "SAVE MODEL\n",
    "\"\"\"\n",
    "#Save model\n",
    "#joblib.dump(model, r'C:\\\\Users\\\\gaibo\\\\OneDrive\\\\Escritorio\\\\Python Projects\\\\Medicine\\\\Tree_Predictor_Model\\\\model.pkl')\n",
    "\n"
   ]
  }
 ],
 "metadata": {
  "kernelspec": {
   "display_name": "Python 3.10.4 64-bit",
   "language": "python",
   "name": "python3"
  },
  "language_info": {
   "codemirror_mode": {
    "name": "ipython",
    "version": 3
   },
   "file_extension": ".py",
   "mimetype": "text/x-python",
   "name": "python",
   "nbconvert_exporter": "python",
   "pygments_lexer": "ipython3",
   "version": "3.10.4"
  },
  "orig_nbformat": 4,
  "vscode": {
   "interpreter": {
    "hash": "916dbcbb3f70747c44a77c7bcd40155683ae19c65e1c03b4aa3499c5328201f1"
   }
  }
 },
 "nbformat": 4,
 "nbformat_minor": 2
}
