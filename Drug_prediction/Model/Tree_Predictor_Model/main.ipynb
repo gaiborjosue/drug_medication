{
 "cells": [
  {
   "cell_type": "code",
   "execution_count": 1,
   "metadata": {},
   "outputs": [],
   "source": [
    "import pandas as pd\n",
    "import matplotlib.pyplot as plt\n",
    "import numpy as np\n",
    "from sklearn.tree import DecisionTreeClassifier\n",
    "import joblib"
   ]
  },
  {
   "cell_type": "code",
   "execution_count": 2,
   "metadata": {},
   "outputs": [
    {
     "name": "stderr",
     "output_type": "stream",
     "text": [
      "/tmp/ipykernel_8228/340151219.py:28: SettingWithCopyWarning: \n",
      "A value is trying to be set on a copy of a slice from a DataFrame.\n",
      "Try using .loc[row_indexer,col_indexer] = value instead\n",
      "\n",
      "See the caveats in the documentation: https://pandas.pydata.org/pandas-docs/stable/user_guide/indexing.html#returning-a-view-versus-a-copy\n",
      "  Y['drugName'] = le_drugN.transform(Y['drugName'])\n"
     ]
    }
   ],
   "source": [
    "#Read data\n",
    "df = pd.read_csv('/home/edward/Homelab/Machine_learning/Drug_prediction/Data/drugsComTest_complete.csv', sep=',')\n",
    "\n",
    "\n",
    "input_c = input(\"Enter the medical condition: \")\n",
    "\n",
    "#Create mask variable to define and process data to required parameters, in this case to keep all values with rating 10 as True. The mask results categorize as True or False, and keeps all True. Apply the mask to the DataFrame and save it as a new DataFrame.\n",
    "mask = df[\"rating\"] == 10\n",
    "df_mask = df[mask]\n",
    "\n",
    "mask_2 = df_mask[\"condition\"] == input_c\n",
    "df_mask = df_mask[mask_2]\n",
    "\n",
    "\n",
    "#Extract specific data for independent variable within the DataFrame columns.\n",
    "X = df_mask[[\"usefulCount\", \"review\"]]\n",
    "\n",
    "#Replace name with numbers, by creating labels for the independent variable \"condition\".\n",
    "#Import Sklearn LabelEncoder to encode the independent variable \"condition\".\n",
    "from sklearn import preprocessing\n",
    "\n",
    "#Extract specific data for dependent variable within the DataFrame columns.\n",
    "Y = df_mask[['drugName']]\n",
    "\n",
    "#Replace name with numbers - Labels\n",
    "le_drugN = preprocessing.LabelEncoder()\n",
    "le_drugN.fit(Y['drugName'])\n",
    "Y['drugName'] = le_drugN.transform(Y['drugName'])"
   ]
  },
  {
   "cell_type": "code",
   "execution_count": 3,
   "metadata": {},
   "outputs": [],
   "source": [
    "#Get only the top 20 drugNames with the highest number of usefulCount.\n",
    "\n",
    "top_20 = X.sort_values(by=['usefulCount'], ascending=False)\n",
    "top_20 = top_20.head(20)\n",
    "\n",
    "#Get the index of the top 20 drugNames.\n",
    "top_20_index = top_20.index\n",
    "\n",
    "top_20_index_list = top_20_index.tolist()"
   ]
  },
  {
   "cell_type": "code",
   "execution_count": 4,
   "metadata": {},
   "outputs": [
    {
     "name": "stderr",
     "output_type": "stream",
     "text": [
      "/home/edward/.local/lib/python3.10/site-packages/tqdm/auto.py:22: TqdmWarning: IProgress not found. Please update jupyter and ipywidgets. See https://ipywidgets.readthedocs.io/en/stable/user_install.html\n",
      "  from .autonotebook import tqdm as notebook_tqdm\n"
     ]
    }
   ],
   "source": [
    "from transformers import AutoTokenizer, AutoModelForSequenceClassification\n",
    "import torch\n",
    "\n",
    "tokenizer = AutoTokenizer.from_pretrained('nlptown/bert-base-multilingual-uncased-sentiment')\n",
    "\n",
    "model = AutoModelForSequenceClassification.from_pretrained('nlptown/bert-base-multilingual-uncased-sentiment')"
   ]
  },
  {
   "cell_type": "code",
   "execution_count": 5,
   "metadata": {},
   "outputs": [],
   "source": [
    "def sentiment_analysis(text):\n",
    "    tokens = tokenizer.encode(text, return_tensors='pt')\n",
    "    result = model(tokens)\n",
    "    return int(torch.argmax(result.logits))+1"
   ]
  },
  {
   "cell_type": "code",
   "execution_count": 6,
   "metadata": {},
   "outputs": [
    {
     "name": "stdout",
     "output_type": "stream",
     "text": [
      "[2, 5, 1, 4, 2, 5, 2, 5, 5, 5, 5, 5, 5, 5, 4, 5, 5, 4, 2, 5]\n"
     ]
    }
   ],
   "source": [
    "#Create a new column in the DataFrame, with the sentiment analysis of the review.\n",
    "from cgi import print_environ\n",
    "\n",
    "\n",
    "sentiment_score = []\n",
    "\n",
    "#Sentiment analysis for the top 20 drugNames.\n",
    "for i in top_20_index_list:\n",
    "    sentiment_score.append(sentiment_analysis(X['review'][i]))\n",
    "\n",
    "print(sentiment_score)\n"
   ]
  },
  {
   "cell_type": "code",
   "execution_count": 10,
   "metadata": {},
   "outputs": [
    {
     "name": "stdout",
     "output_type": "stream",
     "text": [
      "['Etonogestrel' 'NuvaRing' 'Levonorgestrel' 'Mirena' 'Levonorgestrel'\n",
      " 'Ethinyl estradiol / norethindrone' 'Microgestin Fe 1 / 20'\n",
      " 'Ethinyl estradiol / levonorgestrel' 'Aviane'\n",
      " 'Ethinyl estradiol / etonogestrel' 'Ethinyl estradiol / etonogestrel'\n",
      " 'Ortho Evra']\n",
      "\"I have been using the NuvaRing for a bit over 2 weeks now.  I love it. I was a bit cautious about having sex with it, and worried that my boyfriend would feel it inside my vagina. He can&#039;t feel it and I have never experienced a &quot;slipping out&quot; or was afraid that I was going to lose it during sex. I know everyone&#039;s body is different. For me, I&#039;m small 100lbs 5 feet, the other two oral birth control pill I&#039;ve tried Ortho-tricylen and Aviane both made me horribly moody and I had non-stop breakthrough bleeding on Aviane.  \n",
      "\n",
      "Overall, I say NuvaRing is the best birth control yet.  My sex drive is boosted, I can forget I&#039;m even using birth control for three weeks, and I am not moody at all. I feel like a teenager again.\"\n"
     ]
    }
   ],
   "source": [
    "#Indexes of the highest scores in sentiment_score.\n",
    "highest_score_index = [i for i, x in enumerate(sentiment_score) if x == max(sentiment_score)]\n",
    "\n",
    "recommend_drug_index = []\n",
    "recommend_drug_name = []\n",
    "recommend_drug_score = []\n",
    "\n",
    "for k in highest_score_index:\n",
    "    recommend_drug_index.append(top_20_index_list[k])\n",
    "\n",
    "for o in recommend_drug_index:\n",
    "    recommend_drug_name.append(Y['drugName'][o])\n",
    "\n",
    "#Transform the drugName numbers in recommend_drug_name back to the original names.\n",
    "recommend_drug_name = le_drugN.inverse_transform(recommend_drug_name)\n",
    "\n",
    "print(recommend_drug_name)\n",
    "\n",
    "input_review = input(\"Enter the index of the recommended drug you want to have the review: \")\n",
    "\n",
    "client_request_drug_index = recommend_drug_index[int(input_review)]\n",
    "\n",
    "#get the review of the drug that the client requested.\n",
    "client_request_drug_review = X['review'][client_request_drug_index]\n",
    "\n",
    "print(client_request_drug_review)\n",
    "\n"
   ]
  }
 ],
 "metadata": {
  "kernelspec": {
   "display_name": "Python 3.10.4 64-bit",
   "language": "python",
   "name": "python3"
  },
  "language_info": {
   "codemirror_mode": {
    "name": "ipython",
    "version": 3
   },
   "file_extension": ".py",
   "mimetype": "text/x-python",
   "name": "python",
   "nbconvert_exporter": "python",
   "pygments_lexer": "ipython3",
   "version": "3.10.4"
  },
  "orig_nbformat": 4,
  "vscode": {
   "interpreter": {
    "hash": "916dbcbb3f70747c44a77c7bcd40155683ae19c65e1c03b4aa3499c5328201f1"
   }
  }
 },
 "nbformat": 4,
 "nbformat_minor": 2
}
